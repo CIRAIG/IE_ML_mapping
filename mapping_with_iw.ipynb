{
 "cells": [
  {
   "cell_type": "code",
   "execution_count": 2,
   "id": "2f65159c",
   "metadata": {},
   "outputs": [],
   "source": [
    "import json\n",
    "import pandas as pd\n",
    "from sentence_transformers import (SentenceTransformer, util)"
   ]
  },
  {
   "cell_type": "code",
   "execution_count": 3,
   "id": "daefbc3c",
   "metadata": {},
   "outputs": [],
   "source": [
    "model = SentenceTransformer('all-MiniLM-L6-v2')"
   ]
  },
  {
   "cell_type": "code",
   "execution_count": 15,
   "id": "a1ebcb2f",
   "metadata": {},
   "outputs": [],
   "source": [
    "with open('C://Users/11max/PycharmProjects/Mapping_ML/Data/IW_2.0_flows.json','r') as f:\n",
    "    iw_flows = json.load(f)\n",
    "iw_embeddings = model.encode(iw_flows)"
   ]
  },
  {
   "cell_type": "code",
   "execution_count": 43,
   "id": "0772afb3",
   "metadata": {},
   "outputs": [],
   "source": [
    "products = ['NH3']\n",
    "products_embeddings = model.encode(products)"
   ]
  },
  {
   "cell_type": "code",
   "execution_count": 44,
   "id": "43d2bac6",
   "metadata": {},
   "outputs": [],
   "source": [
    "scores = util.pytorch_cos_sim(products_embeddings, iw_embeddings)\n",
    "sorted_scores, indices = scores.sort(dim=1, descending=True)"
   ]
  },
  {
   "cell_type": "code",
   "execution_count": 45,
   "id": "6583892a",
   "metadata": {},
   "outputs": [],
   "source": [
    "df_results = pd.DataFrame(None, ['order', 'iw_flow', 'similarity'])\n",
    "\n",
    "number_of_matches = 5\n",
    "\n",
    "for i, product in enumerate(products):\n",
    "    for j in range(0, number_of_matches):\n",
    "        df_results = pd.concat([df_results, \n",
    "                   pd.DataFrame([product, \n",
    "                                 j+1,\n",
    "                                 iw_flows[indices[i][j].cpu().numpy()], \n",
    "                                 sorted_scores[i][j].cpu().numpy().tolist()],\n",
    "                                ['flow', 'order', 'iw_flow', 'similarity'])],\n",
    "                               axis=1)\n",
    "        \n",
    "df_results = df_results.T.set_index(['flow', 'order'])"
   ]
  },
  {
   "cell_type": "code",
   "execution_count": 46,
   "id": "4f4a532d",
   "metadata": {},
   "outputs": [
    {
     "data": {
      "text/html": [
       "<div>\n",
       "<style scoped>\n",
       "    .dataframe tbody tr th:only-of-type {\n",
       "        vertical-align: middle;\n",
       "    }\n",
       "\n",
       "    .dataframe tbody tr th {\n",
       "        vertical-align: top;\n",
       "    }\n",
       "\n",
       "    .dataframe thead th {\n",
       "        text-align: right;\n",
       "    }\n",
       "</style>\n",
       "<table border=\"1\" class=\"dataframe\">\n",
       "  <thead>\n",
       "    <tr style=\"text-align: right;\">\n",
       "      <th></th>\n",
       "      <th></th>\n",
       "      <th>iw_flow</th>\n",
       "      <th>similarity</th>\n",
       "    </tr>\n",
       "    <tr>\n",
       "      <th>flow</th>\n",
       "      <th>order</th>\n",
       "      <th></th>\n",
       "      <th></th>\n",
       "    </tr>\n",
       "  </thead>\n",
       "  <tbody>\n",
       "    <tr>\n",
       "      <th rowspan=\"5\" valign=\"top\">NH3</th>\n",
       "      <th>1</th>\n",
       "      <td>Ammonia, NI</td>\n",
       "      <td>0.673041</td>\n",
       "    </tr>\n",
       "    <tr>\n",
       "      <th>2</th>\n",
       "      <td>Ammonia, NR</td>\n",
       "      <td>0.666009</td>\n",
       "    </tr>\n",
       "    <tr>\n",
       "      <th>3</th>\n",
       "      <td>Ammonia, NA</td>\n",
       "      <td>0.665262</td>\n",
       "    </tr>\n",
       "    <tr>\n",
       "      <th>4</th>\n",
       "      <td>Ammonia, NE</td>\n",
       "      <td>0.663512</td>\n",
       "    </tr>\n",
       "    <tr>\n",
       "      <th>5</th>\n",
       "      <td>Ammonia</td>\n",
       "      <td>0.651905</td>\n",
       "    </tr>\n",
       "  </tbody>\n",
       "</table>\n",
       "</div>"
      ],
      "text/plain": [
       "                iw_flow similarity\n",
       "flow order                        \n",
       "NH3  1      Ammonia, NI   0.673041\n",
       "     2      Ammonia, NR   0.666009\n",
       "     3      Ammonia, NA   0.665262\n",
       "     4      Ammonia, NE   0.663512\n",
       "     5          Ammonia   0.651905"
      ]
     },
     "execution_count": 46,
     "metadata": {},
     "output_type": "execute_result"
    }
   ],
   "source": [
    "df_results"
   ]
  },
  {
   "cell_type": "code",
   "execution_count": null,
   "id": "b5ddd9db",
   "metadata": {},
   "outputs": [],
   "source": []
  },
  {
   "cell_type": "code",
   "execution_count": null,
   "id": "ca084fa0",
   "metadata": {},
   "outputs": [],
   "source": []
  }
 ],
 "metadata": {
  "kernelspec": {
   "display_name": "Python 3 (ipykernel)",
   "language": "python",
   "name": "python3"
  },
  "language_info": {
   "codemirror_mode": {
    "name": "ipython",
    "version": 3
   },
   "file_extension": ".py",
   "mimetype": "text/x-python",
   "name": "python",
   "nbconvert_exporter": "python",
   "pygments_lexer": "ipython3",
   "version": "3.9.7"
  }
 },
 "nbformat": 4,
 "nbformat_minor": 5
}
